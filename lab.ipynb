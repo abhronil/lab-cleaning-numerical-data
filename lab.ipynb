{
 "cells": [
  {
   "cell_type": "code",
   "execution_count": 1,
   "metadata": {
    "executionInfo": {
     "elapsed": 2329,
     "status": "ok",
     "timestamp": 1688053111411,
     "user": {
      "displayName": "Felipe Rocha",
      "userId": "13209801955446981393"
     },
     "user_tz": -60
    },
    "id": "K9OGiGavg4_J"
   },
   "outputs": [],
   "source": [
    "import pandas as pd\n",
    "import numpy as np\n",
    "import datetime\n",
    "import warnings\n",
    "import matplotlib.pyplot as plt\n",
    "import seaborn as sns\n",
    "\n",
    "pd.set_option('display.max_columns', None)\n",
    "warnings.filterwarnings('ignore')"
   ]
  },
  {
   "cell_type": "markdown",
   "metadata": {
    "id": "v7xdTH-sg4_K"
   },
   "source": [
    "### Checking Dataset"
   ]
  },
  {
   "cell_type": "code",
   "execution_count": 2,
   "metadata": {
    "colab": {
     "base_uri": "https://localhost:8080/",
     "height": 0
    },
    "executionInfo": {
     "elapsed": 61395,
     "status": "ok",
     "timestamp": 1688053174525,
     "user": {
      "displayName": "Felipe Rocha",
      "userId": "13209801955446981393"
     },
     "user_tz": -60
    },
    "id": "sVs5jhkIg4_L",
    "outputId": "a4e6350e-b35b-45bd-97e8-0ea858249d86",
    "scrolled": true
   },
   "outputs": [
    {
     "data": {
      "text/html": [
       "<div>\n",
       "<style scoped>\n",
       "    .dataframe tbody tr th:only-of-type {\n",
       "        vertical-align: middle;\n",
       "    }\n",
       "\n",
       "    .dataframe tbody tr th {\n",
       "        vertical-align: top;\n",
       "    }\n",
       "\n",
       "    .dataframe thead th {\n",
       "        text-align: right;\n",
       "    }\n",
       "</style>\n",
       "<table border=\"1\" class=\"dataframe\">\n",
       "  <thead>\n",
       "    <tr style=\"text-align: right;\">\n",
       "      <th></th>\n",
       "      <th>CONTROLN</th>\n",
       "      <th>STATE</th>\n",
       "      <th>MDMAUD</th>\n",
       "      <th>RECP3</th>\n",
       "      <th>GENDER</th>\n",
       "      <th>DOMAIN</th>\n",
       "      <th>INCOME</th>\n",
       "      <th>HOMEOWNR</th>\n",
       "      <th>HV1</th>\n",
       "      <th>HV2</th>\n",
       "      <th>HV3</th>\n",
       "      <th>HV4</th>\n",
       "      <th>IC1</th>\n",
       "      <th>IC2</th>\n",
       "      <th>IC3</th>\n",
       "      <th>IC4</th>\n",
       "      <th>IC5</th>\n",
       "      <th>VETERANS</th>\n",
       "      <th>NUMPROM</th>\n",
       "      <th>CARDPROM</th>\n",
       "      <th>CARDPM12</th>\n",
       "      <th>NUMPRM12</th>\n",
       "      <th>RFA_2</th>\n",
       "      <th>NGIFTALL</th>\n",
       "      <th>TIMELAG</th>\n",
       "      <th>LASTGIFT</th>\n",
       "      <th>AVGGIFT</th>\n",
       "      <th>TARGET_D</th>\n",
       "    </tr>\n",
       "  </thead>\n",
       "  <tbody>\n",
       "    <tr>\n",
       "      <th>0</th>\n",
       "      <td>95515</td>\n",
       "      <td>IL</td>\n",
       "      <td>XXXX</td>\n",
       "      <td></td>\n",
       "      <td>F</td>\n",
       "      <td>T2</td>\n",
       "      <td>NaN</td>\n",
       "      <td></td>\n",
       "      <td>479</td>\n",
       "      <td>635</td>\n",
       "      <td>3</td>\n",
       "      <td>2</td>\n",
       "      <td>307</td>\n",
       "      <td>318</td>\n",
       "      <td>349</td>\n",
       "      <td>378</td>\n",
       "      <td>12883</td>\n",
       "      <td></td>\n",
       "      <td>74</td>\n",
       "      <td>27</td>\n",
       "      <td>6</td>\n",
       "      <td>14</td>\n",
       "      <td>L4E</td>\n",
       "      <td>31</td>\n",
       "      <td>4.0</td>\n",
       "      <td>10.0</td>\n",
       "      <td>7.741935</td>\n",
       "      <td>0.0</td>\n",
       "    </tr>\n",
       "    <tr>\n",
       "      <th>1</th>\n",
       "      <td>148535</td>\n",
       "      <td>CA</td>\n",
       "      <td>XXXX</td>\n",
       "      <td></td>\n",
       "      <td>M</td>\n",
       "      <td>S1</td>\n",
       "      <td>6.0</td>\n",
       "      <td>H</td>\n",
       "      <td>5468</td>\n",
       "      <td>5218</td>\n",
       "      <td>12</td>\n",
       "      <td>10</td>\n",
       "      <td>1088</td>\n",
       "      <td>1096</td>\n",
       "      <td>1026</td>\n",
       "      <td>1037</td>\n",
       "      <td>36175</td>\n",
       "      <td></td>\n",
       "      <td>32</td>\n",
       "      <td>12</td>\n",
       "      <td>6</td>\n",
       "      <td>13</td>\n",
       "      <td>L2G</td>\n",
       "      <td>3</td>\n",
       "      <td>18.0</td>\n",
       "      <td>25.0</td>\n",
       "      <td>15.666667</td>\n",
       "      <td>0.0</td>\n",
       "    </tr>\n",
       "    <tr>\n",
       "      <th>2</th>\n",
       "      <td>15078</td>\n",
       "      <td>NC</td>\n",
       "      <td>XXXX</td>\n",
       "      <td></td>\n",
       "      <td>M</td>\n",
       "      <td>R2</td>\n",
       "      <td>3.0</td>\n",
       "      <td>U</td>\n",
       "      <td>497</td>\n",
       "      <td>546</td>\n",
       "      <td>2</td>\n",
       "      <td>1</td>\n",
       "      <td>251</td>\n",
       "      <td>292</td>\n",
       "      <td>292</td>\n",
       "      <td>340</td>\n",
       "      <td>11576</td>\n",
       "      <td></td>\n",
       "      <td>63</td>\n",
       "      <td>26</td>\n",
       "      <td>6</td>\n",
       "      <td>14</td>\n",
       "      <td>L4E</td>\n",
       "      <td>27</td>\n",
       "      <td>12.0</td>\n",
       "      <td>5.0</td>\n",
       "      <td>7.481481</td>\n",
       "      <td>0.0</td>\n",
       "    </tr>\n",
       "    <tr>\n",
       "      <th>3</th>\n",
       "      <td>172556</td>\n",
       "      <td>CA</td>\n",
       "      <td>XXXX</td>\n",
       "      <td></td>\n",
       "      <td>F</td>\n",
       "      <td>R2</td>\n",
       "      <td>1.0</td>\n",
       "      <td>U</td>\n",
       "      <td>1000</td>\n",
       "      <td>1263</td>\n",
       "      <td>2</td>\n",
       "      <td>1</td>\n",
       "      <td>386</td>\n",
       "      <td>388</td>\n",
       "      <td>396</td>\n",
       "      <td>423</td>\n",
       "      <td>15130</td>\n",
       "      <td></td>\n",
       "      <td>66</td>\n",
       "      <td>27</td>\n",
       "      <td>6</td>\n",
       "      <td>14</td>\n",
       "      <td>L4E</td>\n",
       "      <td>16</td>\n",
       "      <td>9.0</td>\n",
       "      <td>10.0</td>\n",
       "      <td>6.812500</td>\n",
       "      <td>0.0</td>\n",
       "    </tr>\n",
       "    <tr>\n",
       "      <th>4</th>\n",
       "      <td>7112</td>\n",
       "      <td>FL</td>\n",
       "      <td>XXXX</td>\n",
       "      <td>X</td>\n",
       "      <td>F</td>\n",
       "      <td>S2</td>\n",
       "      <td>3.0</td>\n",
       "      <td>H</td>\n",
       "      <td>576</td>\n",
       "      <td>594</td>\n",
       "      <td>4</td>\n",
       "      <td>3</td>\n",
       "      <td>240</td>\n",
       "      <td>250</td>\n",
       "      <td>293</td>\n",
       "      <td>321</td>\n",
       "      <td>9836</td>\n",
       "      <td></td>\n",
       "      <td>113</td>\n",
       "      <td>43</td>\n",
       "      <td>10</td>\n",
       "      <td>25</td>\n",
       "      <td>L2F</td>\n",
       "      <td>37</td>\n",
       "      <td>14.0</td>\n",
       "      <td>15.0</td>\n",
       "      <td>6.864865</td>\n",
       "      <td>0.0</td>\n",
       "    </tr>\n",
       "    <tr>\n",
       "      <th>...</th>\n",
       "      <td>...</td>\n",
       "      <td>...</td>\n",
       "      <td>...</td>\n",
       "      <td>...</td>\n",
       "      <td>...</td>\n",
       "      <td>...</td>\n",
       "      <td>...</td>\n",
       "      <td>...</td>\n",
       "      <td>...</td>\n",
       "      <td>...</td>\n",
       "      <td>...</td>\n",
       "      <td>...</td>\n",
       "      <td>...</td>\n",
       "      <td>...</td>\n",
       "      <td>...</td>\n",
       "      <td>...</td>\n",
       "      <td>...</td>\n",
       "      <td>...</td>\n",
       "      <td>...</td>\n",
       "      <td>...</td>\n",
       "      <td>...</td>\n",
       "      <td>...</td>\n",
       "      <td>...</td>\n",
       "      <td>...</td>\n",
       "      <td>...</td>\n",
       "      <td>...</td>\n",
       "      <td>...</td>\n",
       "      <td>...</td>\n",
       "    </tr>\n",
       "    <tr>\n",
       "      <th>95407</th>\n",
       "      <td>184568</td>\n",
       "      <td>AK</td>\n",
       "      <td>XXXX</td>\n",
       "      <td></td>\n",
       "      <td>M</td>\n",
       "      <td>C2</td>\n",
       "      <td>NaN</td>\n",
       "      <td></td>\n",
       "      <td>988</td>\n",
       "      <td>1025</td>\n",
       "      <td>6</td>\n",
       "      <td>6</td>\n",
       "      <td>433</td>\n",
       "      <td>481</td>\n",
       "      <td>499</td>\n",
       "      <td>535</td>\n",
       "      <td>18807</td>\n",
       "      <td></td>\n",
       "      <td>14</td>\n",
       "      <td>6</td>\n",
       "      <td>5</td>\n",
       "      <td>12</td>\n",
       "      <td>L1G</td>\n",
       "      <td>1</td>\n",
       "      <td>NaN</td>\n",
       "      <td>25.0</td>\n",
       "      <td>25.000000</td>\n",
       "      <td>0.0</td>\n",
       "    </tr>\n",
       "    <tr>\n",
       "      <th>95408</th>\n",
       "      <td>122706</td>\n",
       "      <td>TX</td>\n",
       "      <td>XXXX</td>\n",
       "      <td></td>\n",
       "      <td>M</td>\n",
       "      <td>C1</td>\n",
       "      <td>7.0</td>\n",
       "      <td>H</td>\n",
       "      <td>1679</td>\n",
       "      <td>1723</td>\n",
       "      <td>3</td>\n",
       "      <td>3</td>\n",
       "      <td>806</td>\n",
       "      <td>836</td>\n",
       "      <td>802</td>\n",
       "      <td>849</td>\n",
       "      <td>26538</td>\n",
       "      <td></td>\n",
       "      <td>10</td>\n",
       "      <td>4</td>\n",
       "      <td>3</td>\n",
       "      <td>8</td>\n",
       "      <td>L1F</td>\n",
       "      <td>1</td>\n",
       "      <td>NaN</td>\n",
       "      <td>20.0</td>\n",
       "      <td>20.000000</td>\n",
       "      <td>0.0</td>\n",
       "    </tr>\n",
       "    <tr>\n",
       "      <th>95409</th>\n",
       "      <td>189641</td>\n",
       "      <td>MI</td>\n",
       "      <td>XXXX</td>\n",
       "      <td>X</td>\n",
       "      <td>M</td>\n",
       "      <td>C3</td>\n",
       "      <td>NaN</td>\n",
       "      <td></td>\n",
       "      <td>376</td>\n",
       "      <td>377</td>\n",
       "      <td>4</td>\n",
       "      <td>3</td>\n",
       "      <td>263</td>\n",
       "      <td>264</td>\n",
       "      <td>319</td>\n",
       "      <td>345</td>\n",
       "      <td>12178</td>\n",
       "      <td></td>\n",
       "      <td>33</td>\n",
       "      <td>14</td>\n",
       "      <td>7</td>\n",
       "      <td>17</td>\n",
       "      <td>L3E</td>\n",
       "      <td>7</td>\n",
       "      <td>3.0</td>\n",
       "      <td>10.0</td>\n",
       "      <td>8.285714</td>\n",
       "      <td>0.0</td>\n",
       "    </tr>\n",
       "    <tr>\n",
       "      <th>95410</th>\n",
       "      <td>4693</td>\n",
       "      <td>CA</td>\n",
       "      <td>XXXX</td>\n",
       "      <td></td>\n",
       "      <td>F</td>\n",
       "      <td>C1</td>\n",
       "      <td>7.0</td>\n",
       "      <td>H</td>\n",
       "      <td>2421</td>\n",
       "      <td>2459</td>\n",
       "      <td>11</td>\n",
       "      <td>10</td>\n",
       "      <td>552</td>\n",
       "      <td>544</td>\n",
       "      <td>568</td>\n",
       "      <td>556</td>\n",
       "      <td>15948</td>\n",
       "      <td></td>\n",
       "      <td>127</td>\n",
       "      <td>36</td>\n",
       "      <td>9</td>\n",
       "      <td>31</td>\n",
       "      <td>L4F</td>\n",
       "      <td>41</td>\n",
       "      <td>4.0</td>\n",
       "      <td>18.0</td>\n",
       "      <td>12.146341</td>\n",
       "      <td>18.0</td>\n",
       "    </tr>\n",
       "    <tr>\n",
       "      <th>95411</th>\n",
       "      <td>185114</td>\n",
       "      <td>NC</td>\n",
       "      <td>C1CM</td>\n",
       "      <td></td>\n",
       "      <td>F</td>\n",
       "      <td>C1</td>\n",
       "      <td>5.0</td>\n",
       "      <td>U</td>\n",
       "      <td>938</td>\n",
       "      <td>1049</td>\n",
       "      <td>5</td>\n",
       "      <td>5</td>\n",
       "      <td>451</td>\n",
       "      <td>474</td>\n",
       "      <td>499</td>\n",
       "      <td>519</td>\n",
       "      <td>16699</td>\n",
       "      <td></td>\n",
       "      <td>139</td>\n",
       "      <td>32</td>\n",
       "      <td>6</td>\n",
       "      <td>35</td>\n",
       "      <td>L1G</td>\n",
       "      <td>39</td>\n",
       "      <td>6.0</td>\n",
       "      <td>100.0</td>\n",
       "      <td>96.794872</td>\n",
       "      <td>0.0</td>\n",
       "    </tr>\n",
       "  </tbody>\n",
       "</table>\n",
       "<p>95412 rows × 28 columns</p>\n",
       "</div>"
      ],
      "text/plain": [
       "       CONTROLN STATE MDMAUD RECP3 GENDER DOMAIN  INCOME HOMEOWNR   HV1   HV2  \\\n",
       "0         95515    IL   XXXX            F     T2     NaN            479   635   \n",
       "1        148535    CA   XXXX            M     S1     6.0        H  5468  5218   \n",
       "2         15078    NC   XXXX            M     R2     3.0        U   497   546   \n",
       "3        172556    CA   XXXX            F     R2     1.0        U  1000  1263   \n",
       "4          7112    FL   XXXX     X      F     S2     3.0        H   576   594   \n",
       "...         ...   ...    ...   ...    ...    ...     ...      ...   ...   ...   \n",
       "95407    184568    AK   XXXX            M     C2     NaN            988  1025   \n",
       "95408    122706    TX   XXXX            M     C1     7.0        H  1679  1723   \n",
       "95409    189641    MI   XXXX     X      M     C3     NaN            376   377   \n",
       "95410      4693    CA   XXXX            F     C1     7.0        H  2421  2459   \n",
       "95411    185114    NC   C1CM            F     C1     5.0        U   938  1049   \n",
       "\n",
       "       HV3  HV4   IC1   IC2   IC3   IC4    IC5 VETERANS  NUMPROM  CARDPROM  \\\n",
       "0        3    2   307   318   349   378  12883                74        27   \n",
       "1       12   10  1088  1096  1026  1037  36175                32        12   \n",
       "2        2    1   251   292   292   340  11576                63        26   \n",
       "3        2    1   386   388   396   423  15130                66        27   \n",
       "4        4    3   240   250   293   321   9836               113        43   \n",
       "...    ...  ...   ...   ...   ...   ...    ...      ...      ...       ...   \n",
       "95407    6    6   433   481   499   535  18807                14         6   \n",
       "95408    3    3   806   836   802   849  26538                10         4   \n",
       "95409    4    3   263   264   319   345  12178                33        14   \n",
       "95410   11   10   552   544   568   556  15948               127        36   \n",
       "95411    5    5   451   474   499   519  16699               139        32   \n",
       "\n",
       "       CARDPM12  NUMPRM12 RFA_2  NGIFTALL  TIMELAG  LASTGIFT    AVGGIFT  \\\n",
       "0             6        14   L4E        31      4.0      10.0   7.741935   \n",
       "1             6        13   L2G         3     18.0      25.0  15.666667   \n",
       "2             6        14   L4E        27     12.0       5.0   7.481481   \n",
       "3             6        14   L4E        16      9.0      10.0   6.812500   \n",
       "4            10        25   L2F        37     14.0      15.0   6.864865   \n",
       "...         ...       ...   ...       ...      ...       ...        ...   \n",
       "95407         5        12   L1G         1      NaN      25.0  25.000000   \n",
       "95408         3         8   L1F         1      NaN      20.0  20.000000   \n",
       "95409         7        17   L3E         7      3.0      10.0   8.285714   \n",
       "95410         9        31   L4F        41      4.0      18.0  12.146341   \n",
       "95411         6        35   L1G        39      6.0     100.0  96.794872   \n",
       "\n",
       "       TARGET_D  \n",
       "0           0.0  \n",
       "1           0.0  \n",
       "2           0.0  \n",
       "3           0.0  \n",
       "4           0.0  \n",
       "...         ...  \n",
       "95407       0.0  \n",
       "95408       0.0  \n",
       "95409       0.0  \n",
       "95410      18.0  \n",
       "95411       0.0  \n",
       "\n",
       "[95412 rows x 28 columns]"
      ]
     },
     "execution_count": 2,
     "metadata": {},
     "output_type": "execute_result"
    }
   ],
   "source": [
    "data = pd.read_excel('c://Users/ilike/1.data/lab-cleaning-numerical-data/4.01_dataset.xlsx')\n",
    "data#.head()"
   ]
  },
  {
   "cell_type": "code",
   "execution_count": 3,
   "metadata": {
    "colab": {
     "base_uri": "https://localhost:8080/"
    },
    "executionInfo": {
     "elapsed": 7,
     "status": "ok",
     "timestamp": 1688053174526,
     "user": {
      "displayName": "Felipe Rocha",
      "userId": "13209801955446981393"
     },
     "user_tz": -60
    },
    "id": "9vNM6Tcfg4_L",
    "outputId": "baa79472-a10d-481b-ada2-a47ddcdb833c"
   },
   "outputs": [
    {
     "data": {
      "text/plain": [
       "(95412, 28)"
      ]
     },
     "execution_count": 3,
     "metadata": {},
     "output_type": "execute_result"
    }
   ],
   "source": [
    "data.shape"
   ]
  },
  {
   "cell_type": "code",
   "execution_count": 4,
   "metadata": {
    "colab": {
     "base_uri": "https://localhost:8080/",
     "height": 0
    },
    "executionInfo": {
     "elapsed": 6,
     "status": "ok",
     "timestamp": 1688053174526,
     "user": {
      "displayName": "Felipe Rocha",
      "userId": "13209801955446981393"
     },
     "user_tz": -60
    },
    "id": "BSyDJlwbg4_M",
    "outputId": "b6bbd512-87f9-42e6-f63c-1f48499ac7b7"
   },
   "outputs": [
    {
     "data": {
      "text/html": [
       "<div>\n",
       "<style scoped>\n",
       "    .dataframe tbody tr th:only-of-type {\n",
       "        vertical-align: middle;\n",
       "    }\n",
       "\n",
       "    .dataframe tbody tr th {\n",
       "        vertical-align: top;\n",
       "    }\n",
       "\n",
       "    .dataframe thead th {\n",
       "        text-align: right;\n",
       "    }\n",
       "</style>\n",
       "<table border=\"1\" class=\"dataframe\">\n",
       "  <thead>\n",
       "    <tr style=\"text-align: right;\">\n",
       "      <th></th>\n",
       "      <th>CONTROLN</th>\n",
       "      <th>INCOME</th>\n",
       "      <th>HV1</th>\n",
       "      <th>HV2</th>\n",
       "      <th>HV3</th>\n",
       "      <th>HV4</th>\n",
       "      <th>IC1</th>\n",
       "      <th>IC2</th>\n",
       "      <th>IC3</th>\n",
       "      <th>IC4</th>\n",
       "      <th>IC5</th>\n",
       "      <th>NUMPROM</th>\n",
       "      <th>CARDPROM</th>\n",
       "      <th>CARDPM12</th>\n",
       "      <th>NUMPRM12</th>\n",
       "      <th>NGIFTALL</th>\n",
       "      <th>TIMELAG</th>\n",
       "      <th>LASTGIFT</th>\n",
       "      <th>AVGGIFT</th>\n",
       "      <th>TARGET_D</th>\n",
       "    </tr>\n",
       "  </thead>\n",
       "  <tbody>\n",
       "    <tr>\n",
       "      <th>count</th>\n",
       "      <td>95412.000000</td>\n",
       "      <td>74126.000000</td>\n",
       "      <td>95412.000000</td>\n",
       "      <td>95412.000000</td>\n",
       "      <td>95412.000000</td>\n",
       "      <td>95412.000000</td>\n",
       "      <td>95412.000000</td>\n",
       "      <td>95412.000000</td>\n",
       "      <td>95412.000000</td>\n",
       "      <td>95412.000000</td>\n",
       "      <td>95412.000000</td>\n",
       "      <td>95412.000000</td>\n",
       "      <td>95412.000000</td>\n",
       "      <td>95412.000000</td>\n",
       "      <td>95412.000000</td>\n",
       "      <td>95412.000000</td>\n",
       "      <td>85439.000000</td>\n",
       "      <td>95412.000000</td>\n",
       "      <td>95412.000000</td>\n",
       "      <td>95412.000000</td>\n",
       "    </tr>\n",
       "    <tr>\n",
       "      <th>mean</th>\n",
       "      <td>95778.176959</td>\n",
       "      <td>3.886248</td>\n",
       "      <td>1061.838238</td>\n",
       "      <td>1133.031086</td>\n",
       "      <td>4.224249</td>\n",
       "      <td>3.875886</td>\n",
       "      <td>340.056387</td>\n",
       "      <td>387.027114</td>\n",
       "      <td>387.418302</td>\n",
       "      <td>430.792961</td>\n",
       "      <td>15722.738230</td>\n",
       "      <td>46.973347</td>\n",
       "      <td>18.435144</td>\n",
       "      <td>5.348939</td>\n",
       "      <td>12.856936</td>\n",
       "      <td>9.602031</td>\n",
       "      <td>8.093739</td>\n",
       "      <td>17.313127</td>\n",
       "      <td>13.347786</td>\n",
       "      <td>0.793073</td>\n",
       "    </tr>\n",
       "    <tr>\n",
       "      <th>std</th>\n",
       "      <td>55284.596094</td>\n",
       "      <td>1.854960</td>\n",
       "      <td>941.765892</td>\n",
       "      <td>947.384618</td>\n",
       "      <td>2.307938</td>\n",
       "      <td>2.244389</td>\n",
       "      <td>162.883283</td>\n",
       "      <td>173.614627</td>\n",
       "      <td>161.270738</td>\n",
       "      <td>171.643319</td>\n",
       "      <td>8563.646776</td>\n",
       "      <td>22.970378</td>\n",
       "      <td>8.583794</td>\n",
       "      <td>1.219785</td>\n",
       "      <td>4.544033</td>\n",
       "      <td>8.554342</td>\n",
       "      <td>8.213242</td>\n",
       "      <td>13.956630</td>\n",
       "      <td>10.769997</td>\n",
       "      <td>4.429725</td>\n",
       "    </tr>\n",
       "    <tr>\n",
       "      <th>min</th>\n",
       "      <td>1.000000</td>\n",
       "      <td>1.000000</td>\n",
       "      <td>0.000000</td>\n",
       "      <td>0.000000</td>\n",
       "      <td>0.000000</td>\n",
       "      <td>0.000000</td>\n",
       "      <td>0.000000</td>\n",
       "      <td>0.000000</td>\n",
       "      <td>0.000000</td>\n",
       "      <td>0.000000</td>\n",
       "      <td>0.000000</td>\n",
       "      <td>4.000000</td>\n",
       "      <td>1.000000</td>\n",
       "      <td>0.000000</td>\n",
       "      <td>1.000000</td>\n",
       "      <td>1.000000</td>\n",
       "      <td>0.000000</td>\n",
       "      <td>0.000000</td>\n",
       "      <td>1.285714</td>\n",
       "      <td>0.000000</td>\n",
       "    </tr>\n",
       "    <tr>\n",
       "      <th>25%</th>\n",
       "      <td>47910.750000</td>\n",
       "      <td>2.000000</td>\n",
       "      <td>513.000000</td>\n",
       "      <td>555.000000</td>\n",
       "      <td>3.000000</td>\n",
       "      <td>2.000000</td>\n",
       "      <td>231.000000</td>\n",
       "      <td>274.000000</td>\n",
       "      <td>277.000000</td>\n",
       "      <td>314.000000</td>\n",
       "      <td>10788.000000</td>\n",
       "      <td>27.000000</td>\n",
       "      <td>11.000000</td>\n",
       "      <td>5.000000</td>\n",
       "      <td>11.000000</td>\n",
       "      <td>3.000000</td>\n",
       "      <td>4.000000</td>\n",
       "      <td>10.000000</td>\n",
       "      <td>8.384615</td>\n",
       "      <td>0.000000</td>\n",
       "    </tr>\n",
       "    <tr>\n",
       "      <th>50%</th>\n",
       "      <td>95681.500000</td>\n",
       "      <td>4.000000</td>\n",
       "      <td>737.000000</td>\n",
       "      <td>803.000000</td>\n",
       "      <td>4.000000</td>\n",
       "      <td>3.000000</td>\n",
       "      <td>310.000000</td>\n",
       "      <td>355.000000</td>\n",
       "      <td>354.000000</td>\n",
       "      <td>397.000000</td>\n",
       "      <td>13727.500000</td>\n",
       "      <td>47.000000</td>\n",
       "      <td>18.000000</td>\n",
       "      <td>6.000000</td>\n",
       "      <td>12.000000</td>\n",
       "      <td>7.000000</td>\n",
       "      <td>6.000000</td>\n",
       "      <td>15.000000</td>\n",
       "      <td>11.636364</td>\n",
       "      <td>0.000000</td>\n",
       "    </tr>\n",
       "    <tr>\n",
       "      <th>75%</th>\n",
       "      <td>143643.500000</td>\n",
       "      <td>5.000000</td>\n",
       "      <td>1213.000000</td>\n",
       "      <td>1328.250000</td>\n",
       "      <td>5.000000</td>\n",
       "      <td>5.000000</td>\n",
       "      <td>414.000000</td>\n",
       "      <td>465.000000</td>\n",
       "      <td>466.000000</td>\n",
       "      <td>514.000000</td>\n",
       "      <td>18169.000000</td>\n",
       "      <td>64.000000</td>\n",
       "      <td>25.000000</td>\n",
       "      <td>6.000000</td>\n",
       "      <td>13.000000</td>\n",
       "      <td>13.000000</td>\n",
       "      <td>11.000000</td>\n",
       "      <td>20.000000</td>\n",
       "      <td>15.477955</td>\n",
       "      <td>0.000000</td>\n",
       "    </tr>\n",
       "    <tr>\n",
       "      <th>max</th>\n",
       "      <td>191779.000000</td>\n",
       "      <td>7.000000</td>\n",
       "      <td>6000.000000</td>\n",
       "      <td>6000.000000</td>\n",
       "      <td>13.000000</td>\n",
       "      <td>13.000000</td>\n",
       "      <td>1500.000000</td>\n",
       "      <td>1500.000000</td>\n",
       "      <td>1500.000000</td>\n",
       "      <td>1500.000000</td>\n",
       "      <td>174523.000000</td>\n",
       "      <td>195.000000</td>\n",
       "      <td>61.000000</td>\n",
       "      <td>19.000000</td>\n",
       "      <td>78.000000</td>\n",
       "      <td>237.000000</td>\n",
       "      <td>1088.000000</td>\n",
       "      <td>1000.000000</td>\n",
       "      <td>1000.000000</td>\n",
       "      <td>200.000000</td>\n",
       "    </tr>\n",
       "  </tbody>\n",
       "</table>\n",
       "</div>"
      ],
      "text/plain": [
       "            CONTROLN        INCOME           HV1           HV2           HV3  \\\n",
       "count   95412.000000  74126.000000  95412.000000  95412.000000  95412.000000   \n",
       "mean    95778.176959      3.886248   1061.838238   1133.031086      4.224249   \n",
       "std     55284.596094      1.854960    941.765892    947.384618      2.307938   \n",
       "min         1.000000      1.000000      0.000000      0.000000      0.000000   \n",
       "25%     47910.750000      2.000000    513.000000    555.000000      3.000000   \n",
       "50%     95681.500000      4.000000    737.000000    803.000000      4.000000   \n",
       "75%    143643.500000      5.000000   1213.000000   1328.250000      5.000000   \n",
       "max    191779.000000      7.000000   6000.000000   6000.000000     13.000000   \n",
       "\n",
       "                HV4           IC1           IC2           IC3           IC4  \\\n",
       "count  95412.000000  95412.000000  95412.000000  95412.000000  95412.000000   \n",
       "mean       3.875886    340.056387    387.027114    387.418302    430.792961   \n",
       "std        2.244389    162.883283    173.614627    161.270738    171.643319   \n",
       "min        0.000000      0.000000      0.000000      0.000000      0.000000   \n",
       "25%        2.000000    231.000000    274.000000    277.000000    314.000000   \n",
       "50%        3.000000    310.000000    355.000000    354.000000    397.000000   \n",
       "75%        5.000000    414.000000    465.000000    466.000000    514.000000   \n",
       "max       13.000000   1500.000000   1500.000000   1500.000000   1500.000000   \n",
       "\n",
       "                 IC5       NUMPROM      CARDPROM      CARDPM12      NUMPRM12  \\\n",
       "count   95412.000000  95412.000000  95412.000000  95412.000000  95412.000000   \n",
       "mean    15722.738230     46.973347     18.435144      5.348939     12.856936   \n",
       "std      8563.646776     22.970378      8.583794      1.219785      4.544033   \n",
       "min         0.000000      4.000000      1.000000      0.000000      1.000000   \n",
       "25%     10788.000000     27.000000     11.000000      5.000000     11.000000   \n",
       "50%     13727.500000     47.000000     18.000000      6.000000     12.000000   \n",
       "75%     18169.000000     64.000000     25.000000      6.000000     13.000000   \n",
       "max    174523.000000    195.000000     61.000000     19.000000     78.000000   \n",
       "\n",
       "           NGIFTALL       TIMELAG      LASTGIFT       AVGGIFT      TARGET_D  \n",
       "count  95412.000000  85439.000000  95412.000000  95412.000000  95412.000000  \n",
       "mean       9.602031      8.093739     17.313127     13.347786      0.793073  \n",
       "std        8.554342      8.213242     13.956630     10.769997      4.429725  \n",
       "min        1.000000      0.000000      0.000000      1.285714      0.000000  \n",
       "25%        3.000000      4.000000     10.000000      8.384615      0.000000  \n",
       "50%        7.000000      6.000000     15.000000     11.636364      0.000000  \n",
       "75%       13.000000     11.000000     20.000000     15.477955      0.000000  \n",
       "max      237.000000   1088.000000   1000.000000   1000.000000    200.000000  "
      ]
     },
     "execution_count": 4,
     "metadata": {},
     "output_type": "execute_result"
    }
   ],
   "source": [
    "data.describe()"
   ]
  },
  {
   "cell_type": "code",
   "execution_count": 5,
   "metadata": {
    "colab": {
     "base_uri": "https://localhost:8080/",
     "height": 0
    },
    "executionInfo": {
     "elapsed": 411,
     "status": "ok",
     "timestamp": 1688053174932,
     "user": {
      "displayName": "Felipe Rocha",
      "userId": "13209801955446981393"
     },
     "user_tz": -60
    },
    "id": "jTKF5omxg4_M",
    "outputId": "2e8009a9-5259-4cb2-c21c-4d806e96e34f"
   },
   "outputs": [
    {
     "data": {
      "text/html": [
       "<div>\n",
       "<style scoped>\n",
       "    .dataframe tbody tr th:only-of-type {\n",
       "        vertical-align: middle;\n",
       "    }\n",
       "\n",
       "    .dataframe tbody tr th {\n",
       "        vertical-align: top;\n",
       "    }\n",
       "\n",
       "    .dataframe thead th {\n",
       "        text-align: right;\n",
       "    }\n",
       "</style>\n",
       "<table border=\"1\" class=\"dataframe\">\n",
       "  <thead>\n",
       "    <tr style=\"text-align: right;\">\n",
       "      <th></th>\n",
       "      <th>percentage</th>\n",
       "    </tr>\n",
       "  </thead>\n",
       "  <tbody>\n",
       "    <tr>\n",
       "      <th>INCOME</th>\n",
       "      <td>22.309563</td>\n",
       "    </tr>\n",
       "    <tr>\n",
       "      <th>TIMELAG</th>\n",
       "      <td>10.452564</td>\n",
       "    </tr>\n",
       "  </tbody>\n",
       "</table>\n",
       "</div>"
      ],
      "text/plain": [
       "         percentage\n",
       "INCOME    22.309563\n",
       "TIMELAG   10.452564"
      ]
     },
     "execution_count": 5,
     "metadata": {},
     "output_type": "execute_result"
    }
   ],
   "source": [
    "# Checking for nulls:\n",
    "nulls = pd.DataFrame(data.isna().sum()*100/len(data), columns=['percentage'])\n",
    "nulls[nulls['percentage'] > 0].sort_values('percentage', ascending = False)"
   ]
  },
  {
   "cell_type": "code",
   "execution_count": 6,
   "metadata": {
    "colab": {
     "base_uri": "https://localhost:8080/"
    },
    "executionInfo": {
     "elapsed": 6,
     "status": "ok",
     "timestamp": 1688053174932,
     "user": {
      "displayName": "Felipe Rocha",
      "userId": "13209801955446981393"
     },
     "user_tz": -60
    },
    "id": "fDqHKEx7g4_N",
    "outputId": "b766a45d-6d0e-4960-9e04-b32d60f11a1f",
    "scrolled": true
   },
   "outputs": [
    {
     "data": {
      "text/plain": [
       "TARGET_D    1.000000\n",
       "LASTGIFT    0.061678\n",
       "AVGGIFT     0.044299\n",
       "HV2         0.039860\n",
       "HV1         0.039081\n",
       "IC5         0.037328\n",
       "IC4         0.035952\n",
       "IC2         0.035496\n",
       "IC3         0.033786\n",
       "INCOME      0.032063\n",
       "IC1         0.031780\n",
       "HV3         0.030915\n",
       "HV4         0.030867\n",
       "NUMPRM12    0.025134\n",
       "NUMPROM     0.017337\n",
       "CARDPM12    0.016358\n",
       "CONTROLN    0.013366\n",
       "CARDPROM    0.011302\n",
       "NGIFTALL    0.004899\n",
       "TIMELAG     0.003612\n",
       "Name: TARGET_D, dtype: float64"
      ]
     },
     "execution_count": 6,
     "metadata": {},
     "output_type": "execute_result"
    }
   ],
   "source": [
    "# Checking correlations with the target:\n",
    "data.corr()['TARGET_D'].sort_values(ascending=False)"
   ]
  },
  {
   "cell_type": "code",
   "execution_count": 7,
   "metadata": {
    "colab": {
     "base_uri": "https://localhost:8080/"
    },
    "executionInfo": {
     "elapsed": 6,
     "status": "ok",
     "timestamp": 1688053174933,
     "user": {
      "displayName": "Felipe Rocha",
      "userId": "13209801955446981393"
     },
     "user_tz": -60
    },
    "id": "0dWIhq2tg4_O",
    "outputId": "9ea4670b-d974-42b1-88a0-1b9dbe239048"
   },
   "outputs": [
    {
     "data": {
      "text/plain": [
       "INCOME     0.032063\n",
       "TIMELAG    0.003612\n",
       "Name: TARGET_D, dtype: float64"
      ]
     },
     "execution_count": 7,
     "metadata": {},
     "output_type": "execute_result"
    }
   ],
   "source": [
    "data.corr()['TARGET_D'][['INCOME', 'TIMELAG']]"
   ]
  },
  {
   "cell_type": "markdown",
   "metadata": {
    "id": "4S4gXlrmg4_O"
   },
   "source": [
    "### Dealing with NaNs"
   ]
  },
  {
   "cell_type": "markdown",
   "metadata": {
    "id": "eI0fhhXXg4_O"
   },
   "source": [
    "### Filling NaNs for categorical columns"
   ]
  },
  {
   "cell_type": "markdown",
   "metadata": {
    "id": "z6pvKbeng4_O"
   },
   "source": [
    "How could we find out gender value when this field is null?"
   ]
  },
  {
   "cell_type": "code",
   "execution_count": 8,
   "metadata": {
    "colab": {
     "base_uri": "https://localhost:8080/"
    },
    "executionInfo": {
     "elapsed": 5,
     "status": "ok",
     "timestamp": 1688053174933,
     "user": {
      "displayName": "Felipe Rocha",
      "userId": "13209801955446981393"
     },
     "user_tz": -60
    },
    "id": "nW48j3UHg4_O",
    "outputId": "ffad0a57-59f1-42e2-c182-576d8f78464b"
   },
   "outputs": [
    {
     "data": {
      "text/plain": [
       "F    51277\n",
       "M    39094\n",
       "      2957\n",
       "U     1715\n",
       "J      365\n",
       "C        2\n",
       "A        2\n",
       "Name: GENDER, dtype: int64"
      ]
     },
     "execution_count": 8,
     "metadata": {},
     "output_type": "execute_result"
    }
   ],
   "source": [
    "data['GENDER'].value_counts()"
   ]
  },
  {
   "cell_type": "code",
   "execution_count": 9,
   "metadata": {
    "colab": {
     "base_uri": "https://localhost:8080/"
    },
    "executionInfo": {
     "elapsed": 323,
     "status": "ok",
     "timestamp": 1688053175251,
     "user": {
      "displayName": "Felipe Rocha",
      "userId": "13209801955446981393"
     },
     "user_tz": -60
    },
    "id": "LjM9Bpvqg4_P",
    "outputId": "771e2c0a-fb90-40dc-fa16-cad007a8352a"
   },
   "outputs": [
    {
     "data": {
      "text/plain": [
       "F    51277\n",
       "M    39094\n",
       "O     5041\n",
       "Name: GENDER, dtype: int64"
      ]
     },
     "execution_count": 9,
     "metadata": {},
     "output_type": "execute_result"
    }
   ],
   "source": [
    "data['GENDER'] = data['GENDER'].apply(lambda x: x if x in ['M', 'F'] else 'O')\n",
    "\n",
    "data['GENDER'].value_counts()\n",
    "\n",
    "# Another option would have been to fill the nans with the mode (highest count category, in this case F)"
   ]
  },
  {
   "cell_type": "markdown",
   "metadata": {
    "id": "NINDu6D3g4_P"
   },
   "source": [
    "The Homeownership has two values [H = Homeowner, U = Unknown]. If you had to fill null values, how would it be?"
   ]
  },
  {
   "cell_type": "code",
   "execution_count": 10,
   "metadata": {
    "colab": {
     "base_uri": "https://localhost:8080/"
    },
    "executionInfo": {
     "elapsed": 4,
     "status": "ok",
     "timestamp": 1688053175251,
     "user": {
      "displayName": "Felipe Rocha",
      "userId": "13209801955446981393"
     },
     "user_tz": -60
    },
    "id": "7KAx7OZAg4_P",
    "outputId": "d379deb6-3d37-4f27-91a5-d8fd93290697",
    "scrolled": true
   },
   "outputs": [
    {
     "data": {
      "text/plain": [
       "H    52354\n",
       "     22228\n",
       "U    20830\n",
       "Name: HOMEOWNR, dtype: int64"
      ]
     },
     "execution_count": 10,
     "metadata": {},
     "output_type": "execute_result"
    }
   ],
   "source": [
    "data['HOMEOWNR'].value_counts()"
   ]
  },
  {
   "cell_type": "markdown",
   "metadata": {
    "id": "tt1N7Pa6g4_P"
   },
   "source": [
    "In this case, makes sense that the missing data is converted to U (unknown), since it is a class that already exists and if the value is missing you don't know if the person is a home owner."
   ]
  },
  {
   "cell_type": "code",
   "execution_count": 11,
   "metadata": {
    "colab": {
     "base_uri": "https://localhost:8080/"
    },
    "executionInfo": {
     "elapsed": 5,
     "status": "ok",
     "timestamp": 1688053175252,
     "user": {
      "displayName": "Felipe Rocha",
      "userId": "13209801955446981393"
     },
     "user_tz": -60
    },
    "id": "CKQ_-OR6g4_P",
    "outputId": "58900de2-ed21-493d-a6da-7fda0da8d377"
   },
   "outputs": [
    {
     "data": {
      "text/plain": [
       "H    52354\n",
       "U    43058\n",
       "Name: HOMEOWNR, dtype: int64"
      ]
     },
     "execution_count": 11,
     "metadata": {},
     "output_type": "execute_result"
    }
   ],
   "source": [
    "data['HOMEOWNR'] = np.where(data['HOMEOWNR'] != 'H', 'U', 'H')\n",
    "data['HOMEOWNR'].value_counts()"
   ]
  },
  {
   "cell_type": "markdown",
   "metadata": {
    "id": "MzLzfl7Xg4_Q"
   },
   "source": [
    "### Filling NaNs for numerical columns"
   ]
  },
  {
   "cell_type": "markdown",
   "metadata": {
    "id": "zmousaQUg4_Q"
   },
   "source": [
    "#### Using Mean or Median"
   ]
  },
  {
   "cell_type": "code",
   "execution_count": 12,
   "metadata": {
    "colab": {
     "base_uri": "https://localhost:8080/",
     "height": 0
    },
    "executionInfo": {
     "elapsed": 351,
     "status": "ok",
     "timestamp": 1688053175599,
     "user": {
      "displayName": "Felipe Rocha",
      "userId": "13209801955446981393"
     },
     "user_tz": -60
    },
    "id": "jEb76yCIg4_Q",
    "outputId": "b7fd310e-4aed-4050-9d52-f34b7baf3c29"
   },
   "outputs": [
    {
     "data": {
      "text/plain": [
       "0         4.0\n",
       "1        18.0\n",
       "2        12.0\n",
       "3         9.0\n",
       "4        14.0\n",
       "         ... \n",
       "95407     NaN\n",
       "95408     NaN\n",
       "95409     3.0\n",
       "95410     4.0\n",
       "95411     6.0\n",
       "Name: TIMELAG, Length: 95412, dtype: float64"
      ]
     },
     "execution_count": 12,
     "metadata": {},
     "output_type": "execute_result"
    },
    {
     "data": {
      "image/png": "[encoded data removed]",
      "text/plain": [
       "<Figure size 640x480 with 1 Axes>"
      ]
     },
     "metadata": {},
     "output_type": "display_data"
    }
   ],
   "source": [
    "# best plot to check for outliers\n",
    "# best plot to check for outliers\n",
    "sns.boxplot(data['TIMELAG'])\n",
    "data['TIMELAG']"
   ]
  },
  {
   "cell_type": "code",
   "execution_count": 13,
   "metadata": {
    "colab": {
     "base_uri": "https://localhost:8080/"
    },
    "executionInfo": {
     "elapsed": 5,
     "status": "ok",
     "timestamp": 1688053175599,
     "user": {
      "displayName": "Felipe Rocha",
      "userId": "13209801955446981393"
     },
     "user_tz": -60
    },
    "id": "Yzs0J_RUg4_Q",
    "outputId": "05b31b57-88e2-41da-8ad4-896b0a96009e"
   },
   "outputs": [
    {
     "data": {
      "text/plain": [
       "(6.0, 8.093739393017241)"
      ]
     },
     "execution_count": 13,
     "metadata": {},
     "output_type": "execute_result"
    }
   ],
   "source": [
    "data['TIMELAG'].median(), data['TIMELAG'].mean()"
   ]
  },
  {
   "cell_type": "code",
   "execution_count": 14,
   "metadata": {
    "executionInfo": {
     "elapsed": 5,
     "status": "ok",
     "timestamp": 1688053175600,
     "user": {
      "displayName": "Felipe Rocha",
      "userId": "13209801955446981393"
     },
     "user_tz": -60
    },
    "id": "Rxdy8nGrg4_Q"
   },
   "outputs": [],
   "source": [
    "# for 'TIMELAG' I'll choose median to replace the NaNs\n",
    "# since we have considerable outliers as we saw in .describe() and in the plot above\n",
    "data['TIMELAG'] = data['TIMELAG'].fillna(data['TIMELAG'].median())\n"
   ]
  },
  {
   "cell_type": "code",
   "execution_count": 15,
   "metadata": {
    "colab": {
     "base_uri": "https://localhost:8080/",
     "height": 0
    },
    "executionInfo": {
     "elapsed": 394,
     "status": "ok",
     "timestamp": 1688053175989,
     "user": {
      "displayName": "Felipe Rocha",
      "userId": "13209801955446981393"
     },
     "user_tz": -60
    },
    "id": "nhfohI3_g4_Q",
    "outputId": "a7f08a41-64d2-4e52-d17d-03bb6497aa74"
   },
   "outputs": [
    {
     "data": {
      "text/plain": [
       "<Axes: >"
      ]
     },
     "execution_count": 15,
     "metadata": {},
     "output_type": "execute_result"
    },
    {
     "data": {
      "image/png": "[encoded data removed]",
      "text/plain": [
       "<Figure size 640x480 with 1 Axes>"
      ]
     },
     "metadata": {},
     "output_type": "display_data"
    }
   ],
   "source": [
    "data['INCOME'][0:40].plot()"
   ]
  },
  {
   "cell_type": "code",
   "execution_count": 16,
   "metadata": {
    "colab": {
     "base_uri": "https://localhost:8080/",
     "height": 0
    },
    "executionInfo": {
     "elapsed": 4,
     "status": "ok",
     "timestamp": 1688053175989,
     "user": {
      "displayName": "Felipe Rocha",
      "userId": "13209801955446981393"
     },
     "user_tz": -60
    },
    "id": "Wzb9_wm1g4_R",
    "outputId": "71da7e20-8807-47ff-c33b-2e9a5bb11c1c"
   },
   "outputs": [
    {
     "data": {
      "image/png": "[encoded data removed]",
      "text/plain": [
       "<Figure size 640x480 with 1 Axes>"
      ]
     },
     "metadata": {},
     "output_type": "display_data"
    }
   ],
   "source": [
    "new_income_data = data['INCOME'][0:40].interpolate(method='linear')\n",
    "# linear interpolation assumes that the rate of change between the values is constant\n",
    "new_income_data.plot()\n",
    "plt.show()"
   ]
  },
  {
   "cell_type": "markdown",
   "metadata": {
    "id": "daAD1OTKg4_R"
   },
   "source": [
    "#### Comparing distributions to choose which technique to use:"
   ]
  },
  {
   "cell_type": "code",
   "execution_count": 17,
   "metadata": {
    "colab": {
     "base_uri": "https://localhost:8080/",
     "height": 0
    },
    "executionInfo": {
     "elapsed": 349,
     "status": "ok",
     "timestamp": 1688053176335,
     "user": {
      "displayName": "Felipe Rocha",
      "userId": "13209801955446981393"
     },
     "user_tz": -60
    },
    "id": "L04h2t8Jg4_R",
    "outputId": "8f7eeaa7-773a-4baf-d7c2-28d7ad8af058"
   },
   "outputs": [
    {
     "data": {
      "image/png": "[encoded data removed]",
      "text/plain": [
       "<Figure size 640x480 with 1 Axes>"
      ]
     },
     "metadata": {},
     "output_type": "display_data"
    }
   ],
   "source": [
    "# you can try different methods and check which ones are more normally distributed\n",
    "plt.hist(data['INCOME'].interpolate(method='polynomial', order=2), bins=20)\n",
    "plt.show()"
   ]
  },
  {
   "cell_type": "code",
   "execution_count": 18,
   "metadata": {
    "colab": {
     "base_uri": "https://localhost:8080/"
    },
    "executionInfo": {
     "elapsed": 3,
     "status": "ok",
     "timestamp": 1688053176335,
     "user": {
      "displayName": "Felipe Rocha",
      "userId": "13209801955446981393"
     },
     "user_tz": -60
    },
    "id": "mezI8Lrpg4_R",
    "outputId": "e1135647-1e0b-4971-cea0-6f3340ab9366"
   },
   "outputs": [
    {
     "data": {
      "text/plain": [
       "5.0    15451\n",
       "2.0    13114\n",
       "4.0    12732\n",
       "1.0     9022\n",
       "3.0     8558\n",
       "6.0     7778\n",
       "7.0     7471\n",
       "Name: INCOME, dtype: int64"
      ]
     },
     "execution_count": 18,
     "metadata": {},
     "output_type": "execute_result"
    }
   ],
   "source": [
    "# Above we used interpolation on \"Income\" just for demonstration.\n",
    "# We will be replacing the nulls with 0, assuming that is what would the data be in \"real life\":\n",
    "data['INCOME'].value_counts()"
   ]
  },
  {
   "cell_type": "code",
   "execution_count": 19,
   "metadata": {
    "colab": {
     "base_uri": "https://localhost:8080/"
    },
    "executionInfo": {
     "elapsed": 3,
     "status": "ok",
     "timestamp": 1688053176336,
     "user": {
      "displayName": "Felipe Rocha",
      "userId": "13209801955446981393"
     },
     "user_tz": -60
    },
    "id": "xI8CViJHg4_R",
    "outputId": "13869b63-a2fe-4bb8-818c-4314cbf8587e"
   },
   "outputs": [
    {
     "data": {
      "text/plain": [
       "0"
      ]
     },
     "execution_count": 19,
     "metadata": {},
     "output_type": "execute_result"
    }
   ],
   "source": [
    "data['INCOME'] = data['INCOME'].fillna(0)\n",
    "data['INCOME'].isna().sum()"
   ]
  },
  {
   "cell_type": "markdown",
   "metadata": {
    "id": "QHjVgxbwg4_R"
   },
   "source": [
    "### Checking outliers"
   ]
  },
  {
   "cell_type": "markdown",
   "metadata": {
    "id": "QSIxOHPSg4_R"
   },
   "source": [
    "We start checking for outliers on the target variable:"
   ]
  },
  {
   "cell_type": "code",
   "execution_count": 20,
   "metadata": {
    "colab": {
     "base_uri": "https://localhost:8080/",
     "height": 0
    },
    "executionInfo": {
     "elapsed": 316,
     "status": "ok",
     "timestamp": 1688053176649,
     "user": {
      "displayName": "Felipe Rocha",
      "userId": "13209801955446981393"
     },
     "user_tz": -60
    },
    "id": "xzja67xCg4_S",
    "outputId": "9aabb6e8-dd80-48c9-832d-93e434a49926"
   },
   "outputs": [
    {
     "data": {
      "image/png": "[encoded data removed]",
      "text/plain": [
       "<Figure size 640x480 with 1 Axes>"
      ]
     },
     "metadata": {},
     "output_type": "display_data"
    }
   ],
   "source": [
    "# best plot to check for outliers\n",
    "sns.boxplot(data['TARGET_D'])\n",
    "plt.show()"
   ]
  },
  {
   "cell_type": "code",
   "execution_count": 21,
   "metadata": {
    "colab": {
     "base_uri": "https://localhost:8080/",
     "height": 0
    },
    "executionInfo": {
     "elapsed": 1439,
     "status": "ok",
     "timestamp": 1688053178085,
     "user": {
      "displayName": "Felipe Rocha",
      "userId": "13209801955446981393"
     },
     "user_tz": -60
    },
    "id": "EuZm9Ppsg4_S",
    "outputId": "5283c460-5784-496e-ceaf-1aa1b9b71a18"
   },
   "outputs": [
    {
     "data": {
      "text/plain": [
       "<Axes: xlabel='TARGET_D', ylabel='Density'>"
      ]
     },
     "execution_count": 21,
     "metadata": {},
     "output_type": "execute_result"
    },
    {
     "data": {
      "image/png": "[encoded data removed]",
      "text/plain": [
       "<Figure size 640x480 with 1 Axes>"
      ]
     },
     "metadata": {},
     "output_type": "display_data"
    }
   ],
   "source": [
    "# getting a better look at the distribution:\n",
    "sns.distplot(data['TARGET_D'])"
   ]
  },
  {
   "cell_type": "code",
   "execution_count": 22,
   "metadata": {
    "colab": {
     "base_uri": "https://localhost:8080/",
     "height": 0
    },
    "executionInfo": {
     "elapsed": 6,
     "status": "ok",
     "timestamp": 1688053178086,
     "user": {
      "displayName": "Felipe Rocha",
      "userId": "13209801955446981393"
     },
     "user_tz": -60
    },
    "id": "FxHUMxPtg4_V",
    "outputId": "b3a506a1-75dc-4644-d35e-01be01f3a356"
   },
   "outputs": [
    {
     "data": {
      "text/html": [
       "<div>\n",
       "<style scoped>\n",
       "    .dataframe tbody tr th:only-of-type {\n",
       "        vertical-align: middle;\n",
       "    }\n",
       "\n",
       "    .dataframe tbody tr th {\n",
       "        vertical-align: top;\n",
       "    }\n",
       "\n",
       "    .dataframe thead th {\n",
       "        text-align: right;\n",
       "    }\n",
       "</style>\n",
       "<table border=\"1\" class=\"dataframe\">\n",
       "  <thead>\n",
       "    <tr style=\"text-align: right;\">\n",
       "      <th></th>\n",
       "      <th>CONTROLN</th>\n",
       "      <th>STATE</th>\n",
       "      <th>MDMAUD</th>\n",
       "      <th>RECP3</th>\n",
       "      <th>GENDER</th>\n",
       "      <th>DOMAIN</th>\n",
       "      <th>INCOME</th>\n",
       "      <th>HOMEOWNR</th>\n",
       "      <th>HV1</th>\n",
       "      <th>HV2</th>\n",
       "      <th>HV3</th>\n",
       "      <th>HV4</th>\n",
       "      <th>IC1</th>\n",
       "      <th>IC2</th>\n",
       "      <th>IC3</th>\n",
       "      <th>IC4</th>\n",
       "      <th>IC5</th>\n",
       "      <th>VETERANS</th>\n",
       "      <th>NUMPROM</th>\n",
       "      <th>CARDPROM</th>\n",
       "      <th>CARDPM12</th>\n",
       "      <th>NUMPRM12</th>\n",
       "      <th>RFA_2</th>\n",
       "      <th>NGIFTALL</th>\n",
       "      <th>TIMELAG</th>\n",
       "      <th>LASTGIFT</th>\n",
       "      <th>AVGGIFT</th>\n",
       "      <th>TARGET_D</th>\n",
       "    </tr>\n",
       "  </thead>\n",
       "  <tbody>\n",
       "    <tr>\n",
       "      <th>0</th>\n",
       "      <td>95515</td>\n",
       "      <td>IL</td>\n",
       "      <td>XXXX</td>\n",
       "      <td></td>\n",
       "      <td>F</td>\n",
       "      <td>T2</td>\n",
       "      <td>0.0</td>\n",
       "      <td>U</td>\n",
       "      <td>479</td>\n",
       "      <td>635</td>\n",
       "      <td>3</td>\n",
       "      <td>2</td>\n",
       "      <td>307</td>\n",
       "      <td>318</td>\n",
       "      <td>349</td>\n",
       "      <td>378</td>\n",
       "      <td>12883</td>\n",
       "      <td></td>\n",
       "      <td>74</td>\n",
       "      <td>27</td>\n",
       "      <td>6</td>\n",
       "      <td>14</td>\n",
       "      <td>L4E</td>\n",
       "      <td>31</td>\n",
       "      <td>4.0</td>\n",
       "      <td>10.0</td>\n",
       "      <td>7.741935</td>\n",
       "      <td>0.0</td>\n",
       "    </tr>\n",
       "    <tr>\n",
       "      <th>1</th>\n",
       "      <td>148535</td>\n",
       "      <td>CA</td>\n",
       "      <td>XXXX</td>\n",
       "      <td></td>\n",
       "      <td>M</td>\n",
       "      <td>S1</td>\n",
       "      <td>6.0</td>\n",
       "      <td>H</td>\n",
       "      <td>5468</td>\n",
       "      <td>5218</td>\n",
       "      <td>12</td>\n",
       "      <td>10</td>\n",
       "      <td>1088</td>\n",
       "      <td>1096</td>\n",
       "      <td>1026</td>\n",
       "      <td>1037</td>\n",
       "      <td>36175</td>\n",
       "      <td></td>\n",
       "      <td>32</td>\n",
       "      <td>12</td>\n",
       "      <td>6</td>\n",
       "      <td>13</td>\n",
       "      <td>L2G</td>\n",
       "      <td>3</td>\n",
       "      <td>18.0</td>\n",
       "      <td>25.0</td>\n",
       "      <td>15.666667</td>\n",
       "      <td>0.0</td>\n",
       "    </tr>\n",
       "    <tr>\n",
       "      <th>2</th>\n",
       "      <td>15078</td>\n",
       "      <td>NC</td>\n",
       "      <td>XXXX</td>\n",
       "      <td></td>\n",
       "      <td>M</td>\n",
       "      <td>R2</td>\n",
       "      <td>3.0</td>\n",
       "      <td>U</td>\n",
       "      <td>497</td>\n",
       "      <td>546</td>\n",
       "      <td>2</td>\n",
       "      <td>1</td>\n",
       "      <td>251</td>\n",
       "      <td>292</td>\n",
       "      <td>292</td>\n",
       "      <td>340</td>\n",
       "      <td>11576</td>\n",
       "      <td></td>\n",
       "      <td>63</td>\n",
       "      <td>26</td>\n",
       "      <td>6</td>\n",
       "      <td>14</td>\n",
       "      <td>L4E</td>\n",
       "      <td>27</td>\n",
       "      <td>12.0</td>\n",
       "      <td>5.0</td>\n",
       "      <td>7.481481</td>\n",
       "      <td>0.0</td>\n",
       "    </tr>\n",
       "    <tr>\n",
       "      <th>3</th>\n",
       "      <td>172556</td>\n",
       "      <td>CA</td>\n",
       "      <td>XXXX</td>\n",
       "      <td></td>\n",
       "      <td>F</td>\n",
       "      <td>R2</td>\n",
       "      <td>1.0</td>\n",
       "      <td>U</td>\n",
       "      <td>1000</td>\n",
       "      <td>1263</td>\n",
       "      <td>2</td>\n",
       "      <td>1</td>\n",
       "      <td>386</td>\n",
       "      <td>388</td>\n",
       "      <td>396</td>\n",
       "      <td>423</td>\n",
       "      <td>15130</td>\n",
       "      <td></td>\n",
       "      <td>66</td>\n",
       "      <td>27</td>\n",
       "      <td>6</td>\n",
       "      <td>14</td>\n",
       "      <td>L4E</td>\n",
       "      <td>16</td>\n",
       "      <td>9.0</td>\n",
       "      <td>10.0</td>\n",
       "      <td>6.812500</td>\n",
       "      <td>0.0</td>\n",
       "    </tr>\n",
       "    <tr>\n",
       "      <th>4</th>\n",
       "      <td>7112</td>\n",
       "      <td>FL</td>\n",
       "      <td>XXXX</td>\n",
       "      <td>X</td>\n",
       "      <td>F</td>\n",
       "      <td>S2</td>\n",
       "      <td>3.0</td>\n",
       "      <td>H</td>\n",
       "      <td>576</td>\n",
       "      <td>594</td>\n",
       "      <td>4</td>\n",
       "      <td>3</td>\n",
       "      <td>240</td>\n",
       "      <td>250</td>\n",
       "      <td>293</td>\n",
       "      <td>321</td>\n",
       "      <td>9836</td>\n",
       "      <td></td>\n",
       "      <td>113</td>\n",
       "      <td>43</td>\n",
       "      <td>10</td>\n",
       "      <td>25</td>\n",
       "      <td>L2F</td>\n",
       "      <td>37</td>\n",
       "      <td>14.0</td>\n",
       "      <td>15.0</td>\n",
       "      <td>6.864865</td>\n",
       "      <td>0.0</td>\n",
       "    </tr>\n",
       "    <tr>\n",
       "      <th>...</th>\n",
       "      <td>...</td>\n",
       "      <td>...</td>\n",
       "      <td>...</td>\n",
       "      <td>...</td>\n",
       "      <td>...</td>\n",
       "      <td>...</td>\n",
       "      <td>...</td>\n",
       "      <td>...</td>\n",
       "      <td>...</td>\n",
       "      <td>...</td>\n",
       "      <td>...</td>\n",
       "      <td>...</td>\n",
       "      <td>...</td>\n",
       "      <td>...</td>\n",
       "      <td>...</td>\n",
       "      <td>...</td>\n",
       "      <td>...</td>\n",
       "      <td>...</td>\n",
       "      <td>...</td>\n",
       "      <td>...</td>\n",
       "      <td>...</td>\n",
       "      <td>...</td>\n",
       "      <td>...</td>\n",
       "      <td>...</td>\n",
       "      <td>...</td>\n",
       "      <td>...</td>\n",
       "      <td>...</td>\n",
       "      <td>...</td>\n",
       "    </tr>\n",
       "    <tr>\n",
       "      <th>95406</th>\n",
       "      <td>35088</td>\n",
       "      <td>FL</td>\n",
       "      <td>XXXX</td>\n",
       "      <td></td>\n",
       "      <td>F</td>\n",
       "      <td>S2</td>\n",
       "      <td>6.0</td>\n",
       "      <td>H</td>\n",
       "      <td>733</td>\n",
       "      <td>875</td>\n",
       "      <td>4</td>\n",
       "      <td>3</td>\n",
       "      <td>285</td>\n",
       "      <td>288</td>\n",
       "      <td>333</td>\n",
       "      <td>334</td>\n",
       "      <td>11390</td>\n",
       "      <td></td>\n",
       "      <td>59</td>\n",
       "      <td>23</td>\n",
       "      <td>5</td>\n",
       "      <td>12</td>\n",
       "      <td>L4D</td>\n",
       "      <td>24</td>\n",
       "      <td>3.0</td>\n",
       "      <td>2.0</td>\n",
       "      <td>3.375000</td>\n",
       "      <td>0.0</td>\n",
       "    </tr>\n",
       "    <tr>\n",
       "      <th>95407</th>\n",
       "      <td>184568</td>\n",
       "      <td>AK</td>\n",
       "      <td>XXXX</td>\n",
       "      <td></td>\n",
       "      <td>M</td>\n",
       "      <td>C2</td>\n",
       "      <td>0.0</td>\n",
       "      <td>U</td>\n",
       "      <td>988</td>\n",
       "      <td>1025</td>\n",
       "      <td>6</td>\n",
       "      <td>6</td>\n",
       "      <td>433</td>\n",
       "      <td>481</td>\n",
       "      <td>499</td>\n",
       "      <td>535</td>\n",
       "      <td>18807</td>\n",
       "      <td></td>\n",
       "      <td>14</td>\n",
       "      <td>6</td>\n",
       "      <td>5</td>\n",
       "      <td>12</td>\n",
       "      <td>L1G</td>\n",
       "      <td>1</td>\n",
       "      <td>6.0</td>\n",
       "      <td>25.0</td>\n",
       "      <td>25.000000</td>\n",
       "      <td>0.0</td>\n",
       "    </tr>\n",
       "    <tr>\n",
       "      <th>95408</th>\n",
       "      <td>122706</td>\n",
       "      <td>TX</td>\n",
       "      <td>XXXX</td>\n",
       "      <td></td>\n",
       "      <td>M</td>\n",
       "      <td>C1</td>\n",
       "      <td>7.0</td>\n",
       "      <td>H</td>\n",
       "      <td>1679</td>\n",
       "      <td>1723</td>\n",
       "      <td>3</td>\n",
       "      <td>3</td>\n",
       "      <td>806</td>\n",
       "      <td>836</td>\n",
       "      <td>802</td>\n",
       "      <td>849</td>\n",
       "      <td>26538</td>\n",
       "      <td></td>\n",
       "      <td>10</td>\n",
       "      <td>4</td>\n",
       "      <td>3</td>\n",
       "      <td>8</td>\n",
       "      <td>L1F</td>\n",
       "      <td>1</td>\n",
       "      <td>6.0</td>\n",
       "      <td>20.0</td>\n",
       "      <td>20.000000</td>\n",
       "      <td>0.0</td>\n",
       "    </tr>\n",
       "    <tr>\n",
       "      <th>95409</th>\n",
       "      <td>189641</td>\n",
       "      <td>MI</td>\n",
       "      <td>XXXX</td>\n",
       "      <td>X</td>\n",
       "      <td>M</td>\n",
       "      <td>C3</td>\n",
       "      <td>0.0</td>\n",
       "      <td>U</td>\n",
       "      <td>376</td>\n",
       "      <td>377</td>\n",
       "      <td>4</td>\n",
       "      <td>3</td>\n",
       "      <td>263</td>\n",
       "      <td>264</td>\n",
       "      <td>319</td>\n",
       "      <td>345</td>\n",
       "      <td>12178</td>\n",
       "      <td></td>\n",
       "      <td>33</td>\n",
       "      <td>14</td>\n",
       "      <td>7</td>\n",
       "      <td>17</td>\n",
       "      <td>L3E</td>\n",
       "      <td>7</td>\n",
       "      <td>3.0</td>\n",
       "      <td>10.0</td>\n",
       "      <td>8.285714</td>\n",
       "      <td>0.0</td>\n",
       "    </tr>\n",
       "    <tr>\n",
       "      <th>95411</th>\n",
       "      <td>185114</td>\n",
       "      <td>NC</td>\n",
       "      <td>C1CM</td>\n",
       "      <td></td>\n",
       "      <td>F</td>\n",
       "      <td>C1</td>\n",
       "      <td>5.0</td>\n",
       "      <td>U</td>\n",
       "      <td>938</td>\n",
       "      <td>1049</td>\n",
       "      <td>5</td>\n",
       "      <td>5</td>\n",
       "      <td>451</td>\n",
       "      <td>474</td>\n",
       "      <td>499</td>\n",
       "      <td>519</td>\n",
       "      <td>16699</td>\n",
       "      <td></td>\n",
       "      <td>139</td>\n",
       "      <td>32</td>\n",
       "      <td>6</td>\n",
       "      <td>35</td>\n",
       "      <td>L1G</td>\n",
       "      <td>39</td>\n",
       "      <td>6.0</td>\n",
       "      <td>100.0</td>\n",
       "      <td>96.794872</td>\n",
       "      <td>0.0</td>\n",
       "    </tr>\n",
       "  </tbody>\n",
       "</table>\n",
       "<p>90569 rows × 28 columns</p>\n",
       "</div>"
      ],
      "text/plain": [
       "       CONTROLN STATE MDMAUD RECP3 GENDER DOMAIN  INCOME HOMEOWNR   HV1   HV2  \\\n",
       "0         95515    IL   XXXX            F     T2     0.0        U   479   635   \n",
       "1        148535    CA   XXXX            M     S1     6.0        H  5468  5218   \n",
       "2         15078    NC   XXXX            M     R2     3.0        U   497   546   \n",
       "3        172556    CA   XXXX            F     R2     1.0        U  1000  1263   \n",
       "4          7112    FL   XXXX     X      F     S2     3.0        H   576   594   \n",
       "...         ...   ...    ...   ...    ...    ...     ...      ...   ...   ...   \n",
       "95406     35088    FL   XXXX            F     S2     6.0        H   733   875   \n",
       "95407    184568    AK   XXXX            M     C2     0.0        U   988  1025   \n",
       "95408    122706    TX   XXXX            M     C1     7.0        H  1679  1723   \n",
       "95409    189641    MI   XXXX     X      M     C3     0.0        U   376   377   \n",
       "95411    185114    NC   C1CM            F     C1     5.0        U   938  1049   \n",
       "\n",
       "       HV3  HV4   IC1   IC2   IC3   IC4    IC5 VETERANS  NUMPROM  CARDPROM  \\\n",
       "0        3    2   307   318   349   378  12883                74        27   \n",
       "1       12   10  1088  1096  1026  1037  36175                32        12   \n",
       "2        2    1   251   292   292   340  11576                63        26   \n",
       "3        2    1   386   388   396   423  15130                66        27   \n",
       "4        4    3   240   250   293   321   9836               113        43   \n",
       "...    ...  ...   ...   ...   ...   ...    ...      ...      ...       ...   \n",
       "95406    4    3   285   288   333   334  11390                59        23   \n",
       "95407    6    6   433   481   499   535  18807                14         6   \n",
       "95408    3    3   806   836   802   849  26538                10         4   \n",
       "95409    4    3   263   264   319   345  12178                33        14   \n",
       "95411    5    5   451   474   499   519  16699               139        32   \n",
       "\n",
       "       CARDPM12  NUMPRM12 RFA_2  NGIFTALL  TIMELAG  LASTGIFT    AVGGIFT  \\\n",
       "0             6        14   L4E        31      4.0      10.0   7.741935   \n",
       "1             6        13   L2G         3     18.0      25.0  15.666667   \n",
       "2             6        14   L4E        27     12.0       5.0   7.481481   \n",
       "3             6        14   L4E        16      9.0      10.0   6.812500   \n",
       "4            10        25   L2F        37     14.0      15.0   6.864865   \n",
       "...         ...       ...   ...       ...      ...       ...        ...   \n",
       "95406         5        12   L4D        24      3.0       2.0   3.375000   \n",
       "95407         5        12   L1G         1      6.0      25.0  25.000000   \n",
       "95408         3         8   L1F         1      6.0      20.0  20.000000   \n",
       "95409         7        17   L3E         7      3.0      10.0   8.285714   \n",
       "95411         6        35   L1G        39      6.0     100.0  96.794872   \n",
       "\n",
       "       TARGET_D  \n",
       "0           0.0  \n",
       "1           0.0  \n",
       "2           0.0  \n",
       "3           0.0  \n",
       "4           0.0  \n",
       "...         ...  \n",
       "95406       0.0  \n",
       "95407       0.0  \n",
       "95408       0.0  \n",
       "95409       0.0  \n",
       "95411       0.0  \n",
       "\n",
       "[90569 rows x 28 columns]"
      ]
     },
     "execution_count": 22,
     "metadata": {},
     "output_type": "execute_result"
    }
   ],
   "source": [
    "# An interesting insight, is that about 95% of the donors, did not donate in the previous compaign\n",
    "data[data['TARGET_D'] == 0]"
   ]
  },
  {
   "cell_type": "code",
   "execution_count": 23,
   "metadata": {
    "colab": {
     "base_uri": "https://localhost:8080/",
     "height": 0
    },
    "executionInfo": {
     "elapsed": 473,
     "status": "ok",
     "timestamp": 1688053178555,
     "user": {
      "displayName": "Felipe Rocha",
      "userId": "13209801955446981393"
     },
     "user_tz": -60
    },
    "id": "luf_ropig4_W",
    "outputId": "d3d4330a-e298-48a1-9275-a49142eab475"
   },
   "outputs": [
    {
     "data": {
      "text/plain": [
       "<Axes: xlabel='TARGET_D', ylabel='Density'>"
      ]
     },
     "execution_count": 23,
     "metadata": {},
     "output_type": "execute_result"
    },
    {
     "data": {
      "image/png": "[encoded data removed]",
      "text/plain": [
       "<Figure size 640x480 with 1 Axes>"
      ]
     },
     "metadata": {},
     "output_type": "display_data"
    }
   ],
   "source": [
    "# So, let's take a look at the distribution without the zeros, to better determine outliers:\n",
    "sns.distplot(data[(data['TARGET_D'] > 0)]['TARGET_D']) #  & (data['TARGET_D'] < 50)"
   ]
  },
  {
   "cell_type": "code",
   "execution_count": 24,
   "metadata": {},
   "outputs": [
    {
     "data": {
      "text/plain": [
       "<seaborn.axisgrid.FacetGrid at 0x1e2cf4ebd60>"
      ]
     },
     "execution_count": 24,
     "metadata": {},
     "output_type": "execute_result"
    },
    {
     "data": {
      "image/png": "[encoded data removed]",
      "text/plain": [
       "<Figure size 500x500 with 1 Axes>"
      ]
     },
     "metadata": {},
     "output_type": "display_data"
    }
   ],
   "source": [
    "sns.displot(data[data['TARGET_D'] > 0]['TARGET_D'])"
   ]
  },
  {
   "cell_type": "code",
   "execution_count": null,
   "metadata": {},
   "outputs": [],
   "source": []
  },
  {
   "cell_type": "code",
   "execution_count": 25,
   "metadata": {
    "colab": {
     "base_uri": "https://localhost:8080/"
    },
    "executionInfo": {
     "elapsed": 3,
     "status": "ok",
     "timestamp": 1688053178556,
     "user": {
      "displayName": "Felipe Rocha",
      "userId": "13209801955446981393"
     },
     "user_tz": -60
    },
    "id": "IHeaAe3ng4_W",
    "outputId": "0aa87406-6273-4bc7-a947-f926eaa87346"
   },
   "outputs": [
    {
     "name": "stdout",
     "output_type": "stream",
     "text": [
      "Donors: 4843\n",
      "Donations > 50: 46\n"
     ]
    }
   ],
   "source": [
    "# out of all the donors, very few donated above 50, so maybe we can consider those outliers:\n",
    "print(\"Donors:\", len(data[(data['TARGET_D'] > 0)]))\n",
    "print(\"Donations > 50:\", len(data[data['TARGET_D'] > 50]))"
   ]
  },
  {
   "cell_type": "code",
   "execution_count": 26,
   "metadata": {
    "colab": {
     "base_uri": "https://localhost:8080/",
     "height": 0
    },
    "executionInfo": {
     "elapsed": 404,
     "status": "ok",
     "timestamp": 1688053178957,
     "user": {
      "displayName": "Felipe Rocha",
      "userId": "13209801955446981393"
     },
     "user_tz": -60
    },
    "id": "ypTUbB2Sg4_W",
    "outputId": "04ddb007-5f3b-4cc3-de22-3eeb53bf1645"
   },
   "outputs": [
    {
     "data": {
      "image/png": "[encoded data removed]",
      "text/plain": [
       "<Figure size 640x480 with 1 Axes>"
      ]
     },
     "metadata": {},
     "output_type": "display_data"
    }
   ],
   "source": [
    "sns.boxplot(data['TIMELAG'])\n",
    "plt.show()"
   ]
  }
 ],
 "metadata": {
  "colab": {
   "collapsed_sections": [
    "v7xdTH-sg4_K",
    "4S4gXlrmg4_O",
    "eI0fhhXXg4_O",
    "MzLzfl7Xg4_Q",
    "daAD1OTKg4_R",
    "QHjVgxbwg4_R",
    "Gol_QwTig4_X",
    "jxz0_sWxg4_Y",
    "lQapRHuwXET5",
    "WpVsEhRpgjWP",
    "Njq7TKIko9m8",
    "NonEHhxtpjwn",
    "MOvLFXKU62kC",
    "Yjqt9NTz7Rsu",
    "5pqnakv4zJix",
    "ycqWkw8kxztX",
    "L4exMBHA3YI8"
   ],
   "provenance": []
  },
  "kernelspec": {
   "display_name": "Python 3 (ipykernel)",
   "language": "python",
   "name": "python3"
  },
  "language_info": {
   "codemirror_mode": {
    "name": "ipython",
    "version": 3
   },
   "file_extension": ".py",
   "mimetype": "text/x-python",
   "name": "python",
   "nbconvert_exporter": "python",
   "pygments_lexer": "ipython3",
   "version": "3.9.13"
  }
 },
 "nbformat": 4,
 "nbformat_minor": 1
}
